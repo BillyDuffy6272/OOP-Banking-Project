{
 "cells": [
  {
   "cell_type": "markdown",
   "id": "decbe101",
   "metadata": {},
   "source": [
    "# Sprint 2"
   ]
  },
  {
   "cell_type": "markdown",
   "id": "79a0aca5",
   "metadata": {},
   "source": [
    "###  Sprint 2 Goals"
   ]
  },
  {
   "cell_type": "markdown",
   "id": "9e5ad305",
   "metadata": {},
   "source": [
    "- To have the main file structure for the new classes set up\n",
    "- To fully setup the Account Storage and Account W/D Class\n",
    "- To integrate the Classes into the running file (app.py)\n",
    "- To use the both of the class's functions to have users save account info and allow users to add or take out money in their accounts"
   ]
  },
  {
   "cell_type": "markdown",
   "id": "d993e27c",
   "metadata": {},
   "source": [
    "### Sprint 2 Completed Tasks"
   ]
  },
  {
   "cell_type": "markdown",
   "id": "90b20e78",
   "metadata": {},
   "source": [
    "- Setup file structure\n",
    "- Setup Account Storage Class, making sure it runs error free\n",
    "- Integrated Account Storage class in running file\n",
    "- Finished code in order to allow users to withdraw and deposit money and store their new account information in a csv file\n"
   ]
  },
  {
   "cell_type": "markdown",
   "id": "c8223aa3",
   "metadata": {},
   "source": [
    "### Testing Procedures"
   ]
  },
  {
   "cell_type": "markdown",
   "id": "f85f088b",
   "metadata": {},
   "source": [
    "- Major difficulty with changing account information in the csv file\n",
    "- Testing withdrawals and depsoits change the account information\n",
    "- Testing the account information is saved in a csv file\n",
    "\n",
    "| Test Case      | Input           | Expected Outcome       | Actual Outcome         |\n",
    "|------------------|----------------------------|-------------------------|-------------------------|\n",
    "| w/d changing account info   | amount dep and withdrawed       | updated account balance (on csv file)  | unchanged account info   |\n",
    "| w/d changing account info   | amount dep and withdrawed       | updated account balance (on csv file)  | updated info showing   |\n",
    "| w/d process actually change the balance| amount deposited and withdrawn |   balance to be updated accordingly  |     balance updated          |\n",
    "|  User Input      | input based on my Q's      |   w_d() to run |    w_d() ran   |\n",
    "\n",
    "##### NOTE:\n",
    " I had attempted lots of times to make sure the account info changes after deposits and withdraws, this is why there are basically two identical rows. This shows the transition after lots and lots of recoding and troubleshooting.\n"
   ]
  },
  {
   "cell_type": "markdown",
   "id": "8dd95b10",
   "metadata": {},
   "source": [
    "### Sprint 2 Reflection"
   ]
  },
  {
   "cell_type": "markdown",
   "id": "3088858e",
   "metadata": {},
   "source": [
    "- I had major difficulties in rewriting to the csv file in order to store updated account information based upon \n",
    "- It was also hard to run certain elements from Class files due to variables being undefined\n",
    "- I overcome all these things, will a very minial use of Ai. Simply for reccommending paths for improvement. No more\n",
    "- With user input in the withdrawal and deposit function I made sure to convert input to integers\n",
    "- If user input error occurs in this process the program will quit. They will have to restart the program but all the current information is stored in the csv fle"
   ]
  }
 ],
 "metadata": {
  "language_info": {
   "name": "python"
  }
 },
 "nbformat": 4,
 "nbformat_minor": 5
}
