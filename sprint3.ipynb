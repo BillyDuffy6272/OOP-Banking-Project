{
 "cells": [
  {
   "cell_type": "markdown",
   "id": "decbe101",
   "metadata": {},
   "source": [
    "# Sprint 3"
   ]
  },
  {
   "cell_type": "markdown",
   "id": "79a0aca5",
   "metadata": {},
   "source": [
    "###  Sprint 3 Goals"
   ]
  },
  {
   "cell_type": "markdown",
   "id": "9e5ad305",
   "metadata": {},
   "source": [
    "- To have the main file structure for the new class set up\n",
    "- To fully setup the Account login Class\n",
    "- To integrate the Class into the running file (app.py)\n",
    "- To use the  class's functions to have users who already have accounts to login after exiting the program\n",
    "- Final touches and setup a modular and clear running file"
   ]
  },
  {
   "cell_type": "markdown",
   "id": "d993e27c",
   "metadata": {},
   "source": [
    "### Sprint 3 Completed Tasks"
   ]
  },
  {
   "cell_type": "markdown",
   "id": "90b20e78",
   "metadata": {},
   "source": [
    "- Setup file structure\n",
    "- Setup Account login Class, making sure it runs error free\n",
    "- Integrated Account Login class in running file\n",
    "- Finished code in order to allow users to login in to exisiting accounts\n",
    "- Cleaned up running file\n",
    "- Setup comments throughout my python files \n"
   ]
  },
  {
   "cell_type": "markdown",
   "id": "c8223aa3",
   "metadata": {},
   "source": [
    "### Testing Procedures"
   ]
  },
  {
   "cell_type": "markdown",
   "id": "f85f088b",
   "metadata": {},
   "source": [
    "- Testing user input for account login, in order to make changes and view their account\n",
    "\n",
    "| Test Case      | Input           | Expected Outcome       | Actual Outcome         |\n",
    "|------------------|----------------------------|-------------------------|-------------------------|\n",
    "| input in account login  | account name, number   | save the name, number to edit balance in the program  | saved the account info to edit the balance |\n",
    "| account_login checks through csv  | (needs to be triggered)  | display all account info matched with input | displayed correct information  |\n",
    "| account_login change the balance| amount deposited and withdrawn |   balance to be updated accordingly  |     balance updated          |\n",
    "|  User Input      | input based on my Q's      |   account_login() to run |    account_login() ran   |\n",
    "\n"
   ]
  },
  {
   "cell_type": "markdown",
   "id": "8dd95b10",
   "metadata": {},
   "source": [
    "### Sprint 3 Reflection"
   ]
  },
  {
   "cell_type": "markdown",
   "id": "3088858e",
   "metadata": {},
   "source": [
    "- At one point the code was not longer running at all, but after some persistence and mass troubleshooting it all pieced together and worked perfectly\n",
    "- Making the login code was not very hard at all, I used the logic of my previous procedural code to run this effectivley\n",
    "- When I made the running file more readable and clear it was much simpler than expected and took no more than 5 minutes\n",
    "- Commenting was slightly ardious but was farily straighforward, as I know all my code (I wrote it) it wasn't too hard to briefly explain it"
   ]
  }
 ],
 "metadata": {
  "language_info": {
   "name": "python"
  }
 },
 "nbformat": 4,
 "nbformat_minor": 5
}
