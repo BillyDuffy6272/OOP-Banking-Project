{
 "cells": [
  {
   "cell_type": "markdown",
   "id": "decbe101",
   "metadata": {},
   "source": [
    "# Sprint 1"
   ]
  },
  {
   "cell_type": "markdown",
   "id": "79a0aca5",
   "metadata": {},
   "source": [
    "###  Sprint 1 Goals"
   ]
  },
  {
   "cell_type": "markdown",
   "id": "9e5ad305",
   "metadata": {},
   "source": [
    "- To have the main file structure set up\n",
    "- To fully setup the Account Class\n",
    "- To integrate the Account Class into the running file\n",
    "- To use the Account class's functions to have users set up accounts (not storing info just yet)"
   ]
  },
  {
   "cell_type": "markdown",
   "id": "d993e27c",
   "metadata": {},
   "source": [
    "### Sprint 1 Completed Tasks"
   ]
  },
  {
   "cell_type": "markdown",
   "id": "90b20e78",
   "metadata": {},
   "source": [
    "- Setup file structure\n",
    "- Setup Account Class, making sure it runs error free\n",
    "- Integrated Account class in running file\n",
    "- Used the Account Class's functions are stored variables to allow users to make accounts (storage comes in Sprint 2)\n",
    "- Committed git commits showing progress"
   ]
  },
  {
   "cell_type": "markdown",
   "id": "c8223aa3",
   "metadata": {},
   "source": [
    "### Testing Procedures"
   ]
  },
  {
   "cell_type": "markdown",
   "id": "f85f088b",
   "metadata": {},
   "source": [
    "- Testing user input was used to assign their account information\n",
    "- Ensure my error handling code worked as it should\n",
    "- Ensured my Account page with the Account class is properly implemented with the app.py running file\n",
    " \n",
    "\n",
    "| Test Case      | Input           | Expected Outcome       | Actual Outcome         |\n",
    "|------------------|----------------------------|-------------------------|-------------------------|\n",
    "| Error Handling   | acc num over 8             | you've entered over 8   | you've entered over 8   |\n",
    "| Class integration| import account from account|       No Errors         |     No Errors           |\n",
    "|  User Input      | input based on my Q's      |   display_info() to run |    display_info() ran   |\n"
   ]
  },
  {
   "cell_type": "markdown",
   "id": "8dd95b10",
   "metadata": {},
   "source": [
    "### Sprint 1 Reflection"
   ]
  },
  {
   "cell_type": "markdown",
   "id": "3088858e",
   "metadata": {},
   "source": [
    "- After a few minor tweaks everything ran with ease and little troubleshooting\n",
    "- Perhaps the hardest element of the sprint was getting my head around the new structure of OOP, and integrating into in my coding. Particularily as I am very confident and accustomed to procedural programming\n",
    "- Accessing and linking git worked immediatley, allowing me to log in git easily\n",
    "- Whilst writing the code for new users to make accounts I ensured error handling was and is always present. E.G: Ensuring the must enter a 8-digit number, no less or more."
   ]
  }
 ],
 "metadata": {
  "language_info": {
   "name": "python"
  }
 },
 "nbformat": 4,
 "nbformat_minor": 5
}
